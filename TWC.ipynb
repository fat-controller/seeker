{
 "cells": [
  {
   "cell_type": "code",
   "execution_count": null,
   "id": "436dfeff",
   "metadata": {},
   "outputs": [],
   "source": [
    "import pandas as pd\n",
    "import numpy as np"
   ]
  },
  {
   "cell_type": "code",
   "execution_count": null,
   "id": "968ea021",
   "metadata": {},
   "outputs": [],
   "source": [
    "print(\"SEARCHER\")\n",
    "\n",
    "# Read in data from the keywords / config file\n",
    "df_search = pd.read_csv('keywords.csv')\n",
    "\n",
    "print(\"Loaded config file\")\n",
    "\n",
    "# Make data lowercase\n",
    "for i in range(4):\n",
    "    col_name = df_search.columns[i]\n",
    "    df_search[col_name] = df_search[col_name].str.lower()\n",
    "\n",
    "print(\"Search words made lower case\")\n",
    "\n",
    "# Create lists from the data\n",
    "keywords_hard = df_search.iloc[:,0].tolist()\n",
    "keywords_soft = df_search.iloc[:,1].tolist()\n",
    "search_columns = df_search.iloc[:,4].tolist()\n",
    "search_columns1 = df_search.iloc[:,5].tolist()\n",
    "\n",
    "print(\"Search words moved to lists\")\n",
    "\n",
    "# Strip out blanks\n",
    "keywords_hard = [item for item in keywords_hard if not pd.isna(item)]\n",
    "keywords_soft = [item for item in keywords_soft if not pd.isna(item)]\n",
    "search_columns = [item for item in search_columns if not pd.isna(item)]\n",
    "search_columns1 = [item for item in search_columns1 if not pd.isna(item)]\n",
    "\n",
    "print(\"Blank search words removed\")\n",
    "\n",
    "print(\"Details for debugging...\")\n",
    "print(str(len(keywords_hard))+ \" Hard search words:\")\n",
    "print(keywords_hard)\n",
    "print(\"\")\n",
    "print(str(len(keywords_soft))+ \" Soft search words:\")\n",
    "print(keywords_soft)\n",
    "print(\"\")\n",
    "print(str(len(search_columns))+ \" Columns to search in ACTIONS file:\")\n",
    "print(search_columns)\n",
    "print(\"\")\n",
    "print(str(len(search_columns1))+ \" Columns to search in EVENTS file:\")\n",
    "print(search_columns1)\n",
    "print(\"\")\n",
    "print(\"!! Set up complete\")\n",
    "print(\"\")"
   ]
  },
  {
   "cell_type": "code",
   "execution_count": null,
   "id": "0597c2c5",
   "metadata": {},
   "outputs": [],
   "source": [
    "# load the CSV file\n",
    "df_data = pd.read_csv('ACTIONS.csv')\n",
    "print(\"Loaded Actions file\")\n",
    "df_data1 = pd.read_csv('EVENTS.csv')\n",
    "print(\"Loaded Events file\")\n",
    "\n",
    "\n",
    "# Create columns that will be used to flag matched records\n",
    "df_data['MATCH-HARD'] = False\n",
    "df_data['MATCH-SOFT'] = False\n",
    "df_data['MATCH'] = False\n",
    "\n",
    "df_data1['MATCH-HARD'] = False\n",
    "df_data1['MATCH-SOFT'] = False\n",
    "df_data1['MATCH'] = False\n",
    "\n",
    "print(\"Created flag fields and set to False\")"
   ]
  },
  {
   "cell_type": "code",
   "execution_count": null,
   "id": "ebb978ab",
   "metadata": {},
   "outputs": [],
   "source": [
    "# Hard matches first\n",
    "# Iterate through each key word, searching each of the columns\n",
    "# If a value matches then change the MATCH field to TRUE\n",
    "\n",
    "for keyword in keywords_hard:\n",
    "    for col in search_columns:\n",
    "        df_data['MATCH-HARD'] = df_data['MATCH-HARD'] | df_data[col].astype(str).str.contains(keyword, case=False, na=False)\n",
    "    for col in search_columns1:\n",
    "        df_data1['MATCH-HARD'] = df_data1['MATCH-HARD'] | df_data1[col].astype(str).str.contains(keyword, case=False, na=False)\n",
    "\n",
    "print(\"Hard search complete\")\n",
    "\n",
    "for keyword in keywords_soft:\n",
    "    for col in search_columns:\n",
    "        df_data['MATCH-SOFT'] = df_data['MATCH-SOFT'] | df_data[col].astype(str).str.contains(keyword, case=False, na=False)\n",
    "    for col in search_columns1:\n",
    "        df_data1['MATCH-SOFT'] = df_data1['MATCH-SOFT'] | df_data1[col].astype(str).str.contains(keyword, case=False, na=False)\n",
    "\n",
    "df_data['MATCH'] = df_data['MATCH-HARD'] | df_data['MATCH-SOFT']\n",
    "df_data1['MATCH'] = df_data1['MATCH-HARD'] | df_data1['MATCH-SOFT']\n",
    "\n",
    "print(\"Soft search complete\")"
   ]
  },
  {
   "cell_type": "code",
   "execution_count": null,
   "id": "61fa7ca7",
   "metadata": {},
   "outputs": [],
   "source": [
    "# Export data to a new CSV\n",
    "df_data.to_csv('twData-Actions.csv', index=False)\n",
    "df_data1.to_csv('twData-Events.csv', index=False)\n",
    "print(\"Processed data saved to new CSV files\")\n",
    "print(\"\")\n",
    "print(\"SEARCHER COMPLETE\")"
   ]
  },
  {
   "cell_type": "code",
   "execution_count": null,
   "id": "9b2c2b62",
   "metadata": {},
   "outputs": [],
   "source": []
  }
 ],
 "metadata": {
  "kernelspec": {
   "display_name": "Python 3",
   "language": "python",
   "name": "python3"
  },
  "language_info": {
   "codemirror_mode": {
    "name": "ipython",
    "version": 3
   },
   "file_extension": ".py",
   "mimetype": "text/x-python",
   "name": "python",
   "nbconvert_exporter": "python",
   "pygments_lexer": "ipython3",
   "version": "3.12.10"
  }
 },
 "nbformat": 4,
 "nbformat_minor": 5
}
